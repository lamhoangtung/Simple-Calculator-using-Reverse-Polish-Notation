{
 "cells": [
  {
   "cell_type": "markdown",
   "metadata": {},
   "source": [
    "# Simple Calculator using Reverse Polish Notation"
   ]
  },
  {
   "cell_type": "markdown",
   "metadata": {},
   "source": [
    "[**Reverse Polish Notation (RPN)**](https://en.wikipedia.org/wiki/Reverse_Polish_notation), also known as **Polish Postfix Notation** or simply **Postfix Notation**, is a mathematical notation in which operators follow their operands, in contrast to **Polish Notation (PN)**, in which operators precede their operands. It does not need any parentheses as long as each operator has a fixed number of operands. The description **\"Polish\"** refers to the nationality of logician **Jan Łukasiewicz**, who invented **Polish notation** in 1924.<br/>\n",
    "\n",
    "The **reverse Polish** scheme was proposed in 1954 by **Arthur Burks, Don Warren,** and **Jesse Wright** and was independently reinvented by **Friedrich L. Bauer** and **Edsger W. Dijkstra** in the early 1960s to reduce computer memory access and utilize the stack to evaluate expressions. The algorithms and notation for this scheme were extended by Australian philosopher and computer scientist **Charles L. Hamblin** in the mid-1950s.<br/>\n",
    "\n",
    "**Postfix Notataion** remove all the parentheses and make the process of calculate expression much easier, especially for computer.<br/>\n",
    "\n",
    "In order to understand **Postfix Notation**, we can use an [**Expression Tree**](https://en.wikipedia.org/wiki/Binary_expression_tree) to visualize this expression:\n",
    "**-sqrt(36.2 - 5.3) + 2 - (3.1 + 5.52) * 4 / -3.0**"
   ]
  },
  {
   "cell_type": "markdown",
   "metadata": {},
   "source": [
    "![Expression Tree](https://s2.upanh.pro/2018/08/09/tree.png)"
   ]
  },
  {
   "cell_type": "markdown",
   "metadata": {},
   "source": [
    "That expression will be **\"36.2 5.3 - sqrt - 2.0 + 3.1 5.52 + 4.0 * -3.0 / - -\"** in **Postfix Notation**\n",
    "\n",
    "In the next section, I will show you how we can convert an **Infix Expression** into a **Postfix Expression**, evaluate it and then plot a **Binary Expression Tree** like that."
   ]
  },
  {
   "cell_type": "markdown",
   "metadata": {},
   "source": [
    "## 1. Pre-processing and prepraring:\n",
    "Our input will be a string, so I will remove any space, then add all the missing multiplication operator, handle all the special case like sequence of even minus character '--' to one plus character '+', sequence of multiple plus character '+++' to one plus '+' character, etc.. to Normalize our expression. I used [**Regular Expression**](https://en.wikipedia.org/wiki/Regular_expression) to slice that string in to a list of operand and operator.\n",
    "\n",
    "We also need to check if there are any **variable** in the expression.<br/>"
   ]
  },
  {
   "cell_type": "code",
   "execution_count": 1,
   "metadata": {},
   "outputs": [],
   "source": [
    "import re\n",
    "\n",
    "def preprocessExpression(string):\n",
    "    \"\"\"Convert a expression string to a list of operand and operator\"\"\"\n",
    "    # Remove space\n",
    "    string = string.replace(\" \",\"\")\n",
    "    # Add missing '*' operator\n",
    "    string = re.sub(r'(\\)|x)(\\(|[0-9]|s|x)', r'\\1*\\2', string)\n",
    "    string = re.sub(r'([0-9])(\\(|x|s)', r'\\1*\\2', string)\n",
    "    string = re.sub(r'(x)(x)', r'\\1*\\2', string)\n",
    "    # Handle multiple '+' and '-' operator\n",
    "    string = re.sub(r'(\\-{2})+', '+', string)\n",
    "    string = re.sub(r'\\++', '+', string)\n",
    "    string = re.sub(r'(\\+\\-)+', '-', string)\n",
    "    string = re.sub(r'(\\-\\+)+','-', string)\n",
    "    # Separate minus operator and minus number\n",
    "    string = re.sub(r'(\\)|[0-9]|x)(\\-)', r'\\1\\2 ',string)\n",
    "    string = re.sub(r'([\\*\\/])(\\-)', r'\\1 \\2',string)\n",
    "    # Convert to a list with operand and operator by order\n",
    "    exp = re.findall(r'(-*[0-9,\\.]+)|([*+^\\/-]+|[A-Za-z]+)|(\\(|\\))', string)\n",
    "    exp = [tuple(j for j in i if j)[-1] for i in exp]\n",
    "    for i, x in enumerate(exp):\n",
    "        try:\n",
    "            exp[i] = float(x)\n",
    "        except ValueError:\n",
    "            pass\n",
    "    haveVarible = True if 'x' in exp else False\n",
    "    return exp, haveVarible"
   ]
  },
  {
   "cell_type": "markdown",
   "metadata": {},
   "source": [
    "Let's try it out:"
   ]
  },
  {
   "cell_type": "code",
   "execution_count": 2,
   "metadata": {},
   "outputs": [
    {
     "name": "stdout",
     "output_type": "stream",
     "text": [
      "[3.0, '*', 'x', '^', 2.0, '+', 8.0, '-', 3.0]\n",
      "True\n",
      "['-', 'sqrt', '(', 36.2, '-', 5.3, ')', '+', 2.0, '-', '(', 3.1, '+', 5.52, ')', '*', 4.0, '/', -3.0]\n",
      "False\n"
     ]
    }
   ],
   "source": [
    "_input1 = \"3x^2+8-3\"\n",
    "_input2 = \"-sqrt(36.2 - 5.3) + 2 - (3.1 + 5.52) * 4 / -3.0\"\n",
    "exp1, haveVarible1 = preprocessExpression(_input1)\n",
    "exp2, haveVarible2 = preprocessExpression(_input2)\n",
    "print(exp1)\n",
    "print(haveVarible1)\n",
    "print(exp2)\n",
    "print(haveVarible2)"
   ]
  },
  {
   "cell_type": "markdown",
   "metadata": {},
   "source": [
    "**Perfect!** Next, we have to determine which operator will have higher priority. In this calculator, I will use 6 operators: **+ - * / ^** and **sqrt**. We can add any operators like **sin, cos, log, ln, ...** easily down the lines:"
   ]
  },
  {
   "cell_type": "code",
   "execution_count": 3,
   "metadata": {},
   "outputs": [],
   "source": [
    "def notGreater(i, j):\n",
    "    precedence = {'+': 1, '-': 1, '*': 2, '/': 2, '^': 3, 'sqrt': 4}\n",
    "    try:\n",
    "        a = precedence[i]\n",
    "        b = precedence[j]\n",
    "        return True if a <= b else False\n",
    "    except KeyError:\n",
    "        return False"
   ]
  },
  {
   "cell_type": "markdown",
   "metadata": {},
   "source": [
    "## 2. Convert Infix Expressions to Postfix Expressions:\n",
    "We can convert **Infix Expressions** to **Postfix Expressions** by using [**Shunting-Yard Algorithm**](https://en.wikipedia.org/wiki/Shunting-yard_algorithm), **Edsger Dijkstra** invented it, so named because its operation resembles that of a railroad shunting yard.\n",
    "\n",
    "Here is the **Shunting-Yard Algorithm**:\n",
    "* **Step 1:** Scan the infix expression from left to right.\n",
    "* **Step 2:** If the scanned character is an operand or a variable, output it.\n",
    "* **Step 3:** Else,\n",
    "    * If the precedence of the scanned operator is greater than the precedence of the operator in the stack(or the stack is empty), push it.\n",
    "    * Else, Pop the operator from the stack until the precedence of the scanned operator is less-equal to the precedence of the operator residing on the top of the stack. Push the scanned operator to the stack.\n",
    "* **Step 4:** If the scanned character is an ‘(‘, push it to the stack.\n",
    "* **Step 5:** If the scanned character is an ‘)’, pop and output from the stack until an ‘(‘ is encountered.\n",
    "* **Step 6:** Repeat steps 2-6 until infix expression is scanned.\n",
    "* **Step 7:** Pop and output from the stack until it is not empty."
   ]
  },
  {
   "cell_type": "code",
   "execution_count": 4,
   "metadata": {},
   "outputs": [],
   "source": [
    "def infixToPostfix(exp):\n",
    "    \"\"\"Convert infix expression to postfix expression\"\"\"\n",
    "    output = []\n",
    "    stack = []\n",
    "    for i in exp:\n",
    "        if type(i) is float or i == 'x':\n",
    "            output.append(i)\n",
    "        elif i == '(':\n",
    "            stack.append('(')\n",
    "        elif i == ')':\n",
    "            while stack and stack[-1] != '(':\n",
    "                a = stack.pop()\n",
    "                output.append(a)\n",
    "            if stack and stack[-1] != '(':\n",
    "                return -1\n",
    "            else:\n",
    "                stack.pop()\n",
    "        else:\n",
    "            while stack and notGreater(i, stack[-1]):\n",
    "                output.append(stack.pop())\n",
    "            stack.append(i)\n",
    "    while stack:\n",
    "        output.append(stack.pop())\n",
    "    return output"
   ]
  },
  {
   "cell_type": "markdown",
   "metadata": {},
   "source": [
    "Let's do a quick test:"
   ]
  },
  {
   "cell_type": "code",
   "execution_count": 5,
   "metadata": {},
   "outputs": [
    {
     "name": "stdout",
     "output_type": "stream",
     "text": [
      "[3.0, 'x', 2.0, '^', '*', 8.0, '+', 3.0, '-']\n",
      "[36.2, 5.3, '-', 'sqrt', '-', 2.0, '+', 3.1, 5.52, '+', 4.0, '*', -3.0, '/', '-']\n"
     ]
    }
   ],
   "source": [
    "postfix1 = infixToPostfix(exp1)\n",
    "postfix2 = infixToPostfix(exp2)\n",
    "print(postfix1)\n",
    "print(postfix2)"
   ]
  },
  {
   "cell_type": "markdown",
   "metadata": {},
   "source": [
    "Because each token will be read once, each number, function, or operator will be printed once, and each function, operator, or parenthesis will be pushed onto the stack and popped off the stack once—therefore, there are at most a constant number of operations executed per token, and the running time is thus ***O(n)*** — linear in the size of the input."
   ]
  },
  {
   "cell_type": "markdown",
   "metadata": {},
   "source": [
    "# 3. Evaluate Prefix Expressions:\n",
    "Now we have an **Prefix Expression**, we need to evaluate it for our calculators output:\n",
    "* **Step 1:** Create a stack to store operands (or values).\n",
    "* **Step 2:** Scan the given expression and do following for every scanned element.\n",
    "    * If the element is a number, push it into the stack.\n",
    "    * If the element is a variable, push it's value to the stack.\n",
    "    * If the element is a operator, pop operands for the operator from stack. Evaluate the operator and push the result back to the stack.\n",
    "* **Step 3:** When the expression is ended, the number in the stack is the final answer."
   ]
  },
  {
   "cell_type": "code",
   "execution_count": 6,
   "metadata": {},
   "outputs": [],
   "source": [
    "from math import sqrt\n",
    "\n",
    "def evaluatePostfix(postfix, x):\n",
    "    \"\"\"Evaluate a postfix expression\"\"\"\n",
    "    stack = []\n",
    "    for i in postfix:\n",
    "        if type(i) is float:\n",
    "            stack.append(i)\n",
    "        elif i == 'x':\n",
    "            stack.append(x)\n",
    "        else:\n",
    "            if i == 'sqrt':\n",
    "                val = stack.pop()\n",
    "                stack.append(sqrt(val))\n",
    "            elif i == '-' and len(stack) == 1:\n",
    "                val = stack.pop()\n",
    "                stack.append(-val)\n",
    "            else:\n",
    "                val1 = stack.pop()\n",
    "                val2 = stack.pop()\n",
    "                if i == '+':\n",
    "                    stack.append(val2 + val1)\n",
    "                elif i == '-':\n",
    "                    stack.append(val2 - val1)\n",
    "                elif i == '*':\n",
    "                    stack.append(val2 * val1)\n",
    "                elif i == '/':\n",
    "                    stack.append(val2 / val1)\n",
    "                elif i == '^':\n",
    "                    stack.append(val2**val1)\n",
    "    return stack.pop()"
   ]
  },
  {
   "cell_type": "code",
   "execution_count": 7,
   "metadata": {},
   "outputs": [
    {
     "name": "stdout",
     "output_type": "stream",
     "text": [
      "x=3.14\n",
      "34.5788\n",
      "5.0\n"
     ]
    }
   ],
   "source": [
    "res1 = evaluatePostfix(postfix1,float(input(\"x=\")))\n",
    "res2 = evaluatePostfix(postfix1,0)\n",
    "print(res1)\n",
    "print(res2)"
   ]
  },
  {
   "cell_type": "markdown",
   "metadata": {},
   "source": [
    "Time complexity of evaluation algorithm is ***O(n)*** where n is number of characters in input expression."
   ]
  },
  {
   "cell_type": "markdown",
   "metadata": {},
   "source": [
    "# 4. Plug everything in a simple calculator:\n",
    "All the hard problems have been solved, it's time for our simple console based calculator, let's catch some error and we are good to go ^^"
   ]
  },
  {
   "cell_type": "code",
   "execution_count": 8,
   "metadata": {},
   "outputs": [
    {
     "name": "stdout",
     "output_type": "stream",
     "text": [
      "Input your expression: -sqrt(36.2 - 5.3) + 2 - (3.1 + 5.52) * 4 / x\n",
      "Postfix expression: 36.2  5.3  -  sqrt  -  2.0  +  3.1  5.52  +  4.0  *  x  /  -  \n",
      "Input value of x: -3\n",
      "\n",
      "Value of expression: 7.934556489458414\n"
     ]
    }
   ],
   "source": [
    "# Test expression: -sqrt(36.2 - 5.3) + 2 - (3.1 + 5.52) * 4 / x\"\n",
    "try:\n",
    "    expression = input(\"Input your expression: \")\n",
    "    expression, haveVarible = preprocessExpression(expression)\n",
    "    postfix = infixToPostfix(expression)\n",
    "    print(\"Postfix expression: \", end='')\n",
    "    for each in postfix:\n",
    "        print(str(each), ' ', end='')\n",
    "    if haveVarible:\n",
    "        x = float(input(\"\\nInput value of x: \"))\n",
    "        print('\\nValue of expression:', evaluatePostfix(postfix, x))\n",
    "    else:\n",
    "        print('\\nValue of expression:', evaluatePostfix(postfix, 0))\n",
    "except ValueError:\n",
    "    print(\"Math Error!\")\n",
    "except IndexError:\n",
    "    print(\"Expression Not Valid\")"
   ]
  },
  {
   "cell_type": "markdown",
   "metadata": {},
   "source": [
    "**And it's worked !**"
   ]
  },
  {
   "cell_type": "markdown",
   "metadata": {},
   "source": [
    "![It's worked](http://sv1.upsieutoc.com/2018/08/09/Screen-Shot-2018-08-09-at-11.55.51.png)"
   ]
  },
  {
   "cell_type": "markdown",
   "metadata": {},
   "source": [
    "# 5. Plot the Expression Tree:"
   ]
  },
  {
   "cell_type": "markdown",
   "metadata": {},
   "source": [
    "In order to understand how everything works, we might need to use a **Binary Expression Tree** to visualize the expression. **Prefix Notation** help up construct the binary tree way easier than **Infix Notation**. The process of construct an **Expression Tree** is pretty much the same when we evaluate the **Prefix Expression**.\n",
    "\n",
    "I used **[anytree](https://anytree.readthedocs.io/en/latest/intro.html)**, a simple and powerful Python **tree data library** to construct and plot our tree."
   ]
  },
  {
   "cell_type": "markdown",
   "metadata": {},
   "source": [
    "Since **Binary Expression Tree** is **undirected tree**, I have to make a **edege type function** make sure anytree output the correct tree:"
   ]
  },
  {
   "cell_type": "code",
   "execution_count": 9,
   "metadata": {},
   "outputs": [],
   "source": [
    "def edgetypefunc(node, child):\n",
    "    \"\"\"Return undirected egde for undirected tree export\"\"\"\n",
    "    return '--'"
   ]
  },
  {
   "cell_type": "markdown",
   "metadata": {},
   "source": [
    "Each node of the tree have **a key** in **anytree's Node Class**, so we **can't use a operand or operator** for that key since there might be are a lot of operand or operator got **dupicated** in an expression. But we still can save that value by a additional **kwargs**, so we have to tell anytree to render tree using that **kwargs**."
   ]
  },
  {
   "cell_type": "code",
   "execution_count": 10,
   "metadata": {},
   "outputs": [],
   "source": [
    "def nodeattrfunc(node):\n",
    "    \"\"\"Export to DOT by value of node\"\"\"\n",
    "    return 'label=\"' + str(node.val) + '\"'"
   ]
  },
  {
   "cell_type": "markdown",
   "metadata": {},
   "source": [
    "Here is how we will construct an **Expression Tree** from an **Prefix Expression**:\n",
    "* **Step 1:** Create a stack to store node and an index for those node\n",
    "* **Step 2:** Scan the prefix expression from left to right and do following for every scanned element.\n",
    "    * If the element is a number or variable, create a node for it with new index and push it to the stack\n",
    "    * If the element is a operator:\n",
    "        * Create a node for it with new index\n",
    "        * Pop the operands for that operator from stack then set their parent to the operator node\n",
    "        * Push the parent node to the stack\n",
    "\n",
    "* At the end, there should be **only one node** left in the stack and it is the **root** node of our **Expression Tree**"
   ]
  },
  {
   "cell_type": "code",
   "execution_count": 11,
   "metadata": {},
   "outputs": [],
   "source": [
    "from anytree import Node, RenderTree, DoubleStyle\n",
    "from anytree.exporter import DotExporter\n",
    "\n",
    "def drawExpressionTree(postfix):\n",
    "    \"\"\"Draw expression tree in console and output to file\"\"\"\n",
    "    stack = []\n",
    "    index = 0\n",
    "    for i in postfix:\n",
    "        if type(i) is float or i == 'x':\n",
    "            stack.append(Node(index, parent=None, val=i))\n",
    "            index += 1\n",
    "        else:\n",
    "            if i == 'sqrt':\n",
    "                child = stack.pop()\n",
    "                parent = Node(index, parent=None, val=i)\n",
    "                index += 1\n",
    "                child.parent = parent\n",
    "                stack.append(parent)\n",
    "            elif i == '-' and len(stack) == 1:\n",
    "                child = stack.pop()\n",
    "                parent = Node(index, parent=None, val=i)\n",
    "                index += 1\n",
    "                child.parent = parent\n",
    "                stack.append(parent)\n",
    "            else:\n",
    "                right = stack.pop()\n",
    "                left = stack.pop()\n",
    "                parent = Node(index, parent=None, val=i)\n",
    "                index += 1\n",
    "                left.parent = parent\n",
    "                right.parent = parent\n",
    "                stack.append(parent)\n",
    "    root = stack.pop()\n",
    "    DotExporter(root, graph=\"graph\", nodeattrfunc=nodeattrfunc,\n",
    "                edgetypefunc=edgetypefunc).to_dotfile(\"tree.dot\")\n",
    "    print(\"\\nExpression Tree:\")\n",
    "    print(RenderTree(root, style=DoubleStyle).by_attr(attrname='val'))"
   ]
  },
  {
   "cell_type": "markdown",
   "metadata": {},
   "source": [
    "In this function, i used **RenderTree()** function to render our **Expression Tree** in console and **DotExporter** to export our tree to a ***.dot*** file, we can use dot tool from the [graphviz](http://www.graphviz.org/) package to render it into a ***.png*** image. For futher customization and decoration, please head to [Anytree's Documentation](https://anytree.readthedocs.io/en/latest/intro.html):"
   ]
  },
  {
   "cell_type": "code",
   "execution_count": 12,
   "metadata": {},
   "outputs": [
    {
     "name": "stdout",
     "output_type": "stream",
     "text": [
      "\n",
      "Expression Tree:\n",
      "-\n",
      "╠══ +\n",
      "║   ╠══ -\n",
      "║   ║   ╚══ sqrt\n",
      "║   ║       ╚══ -\n",
      "║   ║           ╠══ 36.2\n",
      "║   ║           ╚══ 5.3\n",
      "║   ╚══ 2.0\n",
      "╚══ /\n",
      "    ╠══ *\n",
      "    ║   ╠══ +\n",
      "    ║   ║   ╠══ 3.1\n",
      "    ║   ║   ╚══ 5.52\n",
      "    ║   ╚══ 4.0\n",
      "    ╚══ x\n"
     ]
    }
   ],
   "source": [
    "drawExpressionTree(postfix)"
   ]
  },
  {
   "cell_type": "code",
   "execution_count": 13,
   "metadata": {},
   "outputs": [],
   "source": [
    "!dot tree.dot -T png -o tree.png"
   ]
  },
  {
   "cell_type": "markdown",
   "metadata": {},
   "source": [
    "![Expression Tree](tree.png \"Expression Tree\")"
   ]
  },
  {
   "cell_type": "markdown",
   "metadata": {},
   "source": [
    "You can also copy all content inside the **tree.dot** file and use [Webgprahviz](http://www.webgraphviz.com/) to plot the tree right inside your browser:"
   ]
  },
  {
   "cell_type": "code",
   "execution_count": 14,
   "metadata": {},
   "outputs": [
    {
     "name": "stdout",
     "output_type": "stream",
     "text": [
      "graph tree {\n",
      "    \"14\" [label=\"-\"];\n",
      "    \"6\" [label=\"+\"];\n",
      "    \"4\" [label=\"-\"];\n",
      "    \"3\" [label=\"sqrt\"];\n",
      "    \"2\" [label=\"-\"];\n",
      "    \"0\" [label=\"36.2\"];\n",
      "    \"1\" [label=\"5.3\"];\n",
      "    \"5\" [label=\"2.0\"];\n",
      "    \"13\" [label=\"/\"];\n",
      "    \"11\" [label=\"*\"];\n",
      "    \"9\" [label=\"+\"];\n",
      "    \"7\" [label=\"3.1\"];\n",
      "    \"8\" [label=\"5.52\"];\n",
      "    \"10\" [label=\"4.0\"];\n",
      "    \"12\" [label=\"x\"];\n",
      "    \"14\" -- \"6\";\n",
      "    \"14\" -- \"13\";\n",
      "    \"6\" -- \"4\";\n",
      "    \"6\" -- \"5\";\n",
      "    \"4\" -- \"3\";\n",
      "    \"3\" -- \"2\";\n",
      "    \"2\" -- \"0\";\n",
      "    \"2\" -- \"1\";\n",
      "    \"13\" -- \"11\";\n",
      "    \"13\" -- \"12\";\n",
      "    \"11\" -- \"9\";\n",
      "    \"11\" -- \"10\";\n",
      "    \"9\" -- \"7\";\n",
      "    \"9\" -- \"8\";\n",
      "}\n",
      "\n"
     ]
    }
   ],
   "source": [
    "f = open('tree.dot', 'r')\n",
    "file_contents = f.read()\n",
    "print(file_contents)\n",
    "f.close()"
   ]
  },
  {
   "cell_type": "markdown",
   "metadata": {},
   "source": [
    "<img src=\"https://media.giphy.com/media/2fsdaNR299EuyYtVJ7/giphy.gif\">"
   ]
  },
  {
   "cell_type": "markdown",
   "metadata": {},
   "source": [
    "**Note:** ***anytree*** support render tree to picture with just a simple line of code but it have trouble working with anaconda so i didn't use it. "
   ]
  },
  {
   "cell_type": "markdown",
   "metadata": {},
   "source": [
    "# 6. Sub Task - Plot the function of expression: "
   ]
  },
  {
   "cell_type": "markdown",
   "metadata": {},
   "source": [
    "For learning purpose, i'll try to plot the **function** from our expression by connect **a collection of dot** in a certain range specify by user input. I will create a list of x value from user input and use our evaluate function before to **calculate the corresponding y value**. Then map them to a **DataFrame** using **pandas** and plot them with **matplotlib**.<br\\>\n",
    "\n",
    "This method works very well for **linear** and **continuous** function."
   ]
  },
  {
   "cell_type": "code",
   "execution_count": 15,
   "metadata": {},
   "outputs": [],
   "source": [
    "import numpy as np\n",
    "import pandas as pd\n",
    "import matplotlib.pyplot as plt\n",
    "\n",
    "\n",
    "def plotFunction(postfix):\n",
    "    \"\"\"Plot a function by connect a collection of points specify by user input\"\"\"\n",
    "    x1 = float(input(\"\\nInput x start: \"))\n",
    "    x2 = float(input(\"Input x end: \"))\n",
    "    m = int(input(\"Input number of points: \"))\n",
    "    step = (x2-x1)/m\n",
    "    x = []\n",
    "    y = []\n",
    "    for i in np.arange(x1, x2, step):\n",
    "        x.append(i)\n",
    "        y.append(evaluatePostfix(postfix, i))\n",
    "    df = pd.DataFrame({'x_axis': x, 'y_axis': y})\n",
    "    print(df)\n",
    "    fig = plt.figure(num='Ham so')\n",
    "    ax = fig.add_subplot(111)\n",
    "    plt.plot('x_axis', 'y_axis', color='green', data=df, linestyle='-', marker='o')\n",
    "    plt.plot(x, y, 'go-')\n",
    "    ax.spines['left'].set_position('zero')\n",
    "    ax.spines['right'].set_color('none')\n",
    "    ax.spines['bottom'].set_position('zero')\n",
    "    ax.spines['top'].set_color('none')\n",
    "    ax.spines['left'].set_smart_bounds(True)\n",
    "    ax.spines['bottom'].set_smart_bounds(True)\n",
    "    ax.xaxis.set_ticks_position('bottom')\n",
    "    ax.yaxis.set_ticks_position('left')\n",
    "    plt.scatter(0, 0)\n",
    "    plt.grid(True)\n",
    "    plt.savefig(\"function.png\")\n",
    "    # plt.show()"
   ]
  },
  {
   "cell_type": "markdown",
   "metadata": {},
   "source": [
    "Our input expression have to be a **function (contain variable)** in order to use this:"
   ]
  },
  {
   "cell_type": "code",
   "execution_count": 16,
   "metadata": {},
   "outputs": [
    {
     "name": "stdout",
     "output_type": "stream",
     "text": [
      "\n",
      "Input x start: -20\n",
      "Input x end: 20\n",
      "Input number of points: 100\n",
      "    x_axis   y_axis\n",
      "0    -20.0  1205.00\n",
      "1    -19.6  1157.48\n",
      "2    -19.2  1110.92\n",
      "3    -18.8  1065.32\n",
      "4    -18.4  1020.68\n",
      "5    -18.0   977.00\n",
      "6    -17.6   934.28\n",
      "7    -17.2   892.52\n",
      "8    -16.8   851.72\n",
      "9    -16.4   811.88\n",
      "10   -16.0   773.00\n",
      "11   -15.6   735.08\n",
      "12   -15.2   698.12\n",
      "13   -14.8   662.12\n",
      "14   -14.4   627.08\n",
      "15   -14.0   593.00\n",
      "16   -13.6   559.88\n",
      "17   -13.2   527.72\n",
      "18   -12.8   496.52\n",
      "19   -12.4   466.28\n",
      "20   -12.0   437.00\n",
      "21   -11.6   408.68\n",
      "22   -11.2   381.32\n",
      "23   -10.8   354.92\n",
      "24   -10.4   329.48\n",
      "25   -10.0   305.00\n",
      "26    -9.6   281.48\n",
      "27    -9.2   258.92\n",
      "28    -8.8   237.32\n",
      "29    -8.4   216.68\n",
      "..     ...      ...\n",
      "70     8.0   197.00\n",
      "71     8.4   216.68\n",
      "72     8.8   237.32\n",
      "73     9.2   258.92\n",
      "74     9.6   281.48\n",
      "75    10.0   305.00\n",
      "76    10.4   329.48\n",
      "77    10.8   354.92\n",
      "78    11.2   381.32\n",
      "79    11.6   408.68\n",
      "80    12.0   437.00\n",
      "81    12.4   466.28\n",
      "82    12.8   496.52\n",
      "83    13.2   527.72\n",
      "84    13.6   559.88\n",
      "85    14.0   593.00\n",
      "86    14.4   627.08\n",
      "87    14.8   662.12\n",
      "88    15.2   698.12\n",
      "89    15.6   735.08\n",
      "90    16.0   773.00\n",
      "91    16.4   811.88\n",
      "92    16.8   851.72\n",
      "93    17.2   892.52\n",
      "94    17.6   934.28\n",
      "95    18.0   977.00\n",
      "96    18.4  1020.68\n",
      "97    18.8  1065.32\n",
      "98    19.2  1110.92\n",
      "99    19.6  1157.48\n",
      "\n",
      "[100 rows x 2 columns]\n"
     ]
    },
    {
     "data": {
      "image/png": "[encoded data removed]",
      "text/plain": [
       "<matplotlib.figure.Figure at 0x10614d9b0>"
      ]
     },
     "metadata": {},
     "output_type": "display_data"
    }
   ],
   "source": [
    "plotFunction(postfix1)"
   ]
  },
  {
   "cell_type": "markdown",
   "metadata": {},
   "source": [
    "**Note:** This method is **not accurate** for plot any kind of function. Since the step was calculated from user input, **if it's don't meet the value that makes the function value undefined**, our program will **ignore** it and **plot the wrong graph**. You can see the example for the **1/x** function below:"
   ]
  },
  {
   "cell_type": "code",
   "execution_count": 17,
   "metadata": {},
   "outputs": [
    {
     "name": "stdout",
     "output_type": "stream",
     "text": [
      "\n",
      "Input x start: -10\n",
      "Input x end: 10\n",
      "Input number of points: 10\n"
     ]
    },
    {
     "name": "stderr",
     "output_type": "stream",
     "text": [
      "/Users/lamhoangtung/anaconda3/lib/python3.6/site-packages/ipykernel_launcher.py:28: RuntimeWarning: divide by zero encountered in double_scalars\n"
     ]
    },
    {
     "name": "stdout",
     "output_type": "stream",
     "text": [
      "   x_axis    y_axis\n",
      "0   -10.0 -0.100000\n",
      "1    -8.0 -0.125000\n",
      "2    -6.0 -0.166667\n",
      "3    -4.0 -0.250000\n",
      "4    -2.0 -0.500000\n",
      "5     0.0       inf\n",
      "6     2.0  0.500000\n",
      "7     4.0  0.250000\n",
      "8     6.0  0.166667\n",
      "9     8.0  0.125000\n"
     ]
    },
    {
     "data": {
      "image/png": "[encoded data removed]",
      "text/plain": [
       "<matplotlib.figure.Figure at 0x112ad7c88>"
      ]
     },
     "metadata": {},
     "output_type": "display_data"
    }
   ],
   "source": [
    "exp, _ = preprocessExpression(\"1/x\")\n",
    "postfix = infixToPostfix(exp)\n",
    "plotFunction(postfix)"
   ]
  },
  {
   "cell_type": "code",
   "execution_count": 20,
   "metadata": {},
   "outputs": [
    {
     "name": "stdout",
     "output_type": "stream",
     "text": [
      "\n",
      "Input x start: -10\n",
      "Input x end: 10\n",
      "Input number of points: 7\n",
      "      x_axis    y_axis\n",
      "0 -10.000000 -0.100000\n",
      "1  -7.142857 -0.140000\n",
      "2  -4.285714 -0.233333\n",
      "3  -1.428571 -0.700000\n",
      "4   1.428571  0.700000\n",
      "5   4.285714  0.233333\n",
      "6   7.142857  0.140000\n"
     ]
    },
    {
     "data": {
      "image/png": "[encoded data removed]",
      "text/plain": [
       "<matplotlib.figure.Figure at 0x113046be0>"
      ]
     },
     "metadata": {},
     "output_type": "display_data"
    }
   ],
   "source": [
    "exp, _ = preprocessExpression(\"1/x\")\n",
    "postfix = infixToPostfix(exp)\n",
    "plotFunction(postfix)"
   ]
  },
  {
   "cell_type": "markdown",
   "metadata": {},
   "source": [
    "So, this project is **not prefect**. There are still **a lot of room for improvement** like **Evaluate expression using expression Tree and DFS, better method to plot function, etc..** so any contribution will be much appreciated ^^\n",
    "\n",
    "#### ***Anyways, thanks for read this till the end! Feels free to give me any question or contribute to this project <3***"
   ]
  }
 ],
 "metadata": {
  "kernelspec": {
   "display_name": "Python 3",
   "language": "python",
   "name": "python3"
  },
  "language_info": {
   "codemirror_mode": {
    "name": "ipython",
    "version": 3
   },
   "file_extension": ".py",
   "mimetype": "text/x-python",
   "name": "python",
   "nbconvert_exporter": "python",
   "pygments_lexer": "ipython3",
   "version": "3.6.4"
  }
 },
 "nbformat": 4,
 "nbformat_minor": 2
}

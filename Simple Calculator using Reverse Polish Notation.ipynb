{
 "cells": [
  {
   "cell_type": "markdown",
   "metadata": {},
   "source": [
    "# Simple Calculator using Reverse Polish Notation"
   ]
  },
  {
   "cell_type": "markdown",
   "metadata": {},
   "source": [
    "[**Reverse Polish Notation (RPN)**](https://en.wikipedia.org/wiki/Reverse_Polish_notation), also known as **Polish Postfix Notation** or simply **Postfix Notation**, is a mathematical notation in which operators follow their operands, in contrast to **Polish Notation (PN)**, in which operators precede their operands. It does not need any parentheses as long as each operator has a fixed number of operands. The description **\"Polish\"** refers to the nationality of logician **Jan Łukasiewicz**, who invented **Polish notation** in 1924.<br/>\n",
    "\n",
    "The **reverse Polish** scheme was proposed in 1954 by **Arthur Burks, Don Warren,** and **Jesse Wright** and was independently reinvented by **Friedrich L. Bauer** and **Edsger W. Dijkstra** in the early 1960s to reduce computer memory access and utilize the stack to evaluate expressions. The algorithms and notation for this scheme were extended by Australian philosopher and computer scientist **Charles L. Hamblin** in the mid-1950s.<br/>\n",
    "\n",
    "**Postfix Notataion** remove all the parentheses and make the process of calculate expression much easier, especially for computer.<br/>\n",
    "\n",
    "In order to understand **Postfix Notation**, we can use an [**Expression Tree**](https://en.wikipedia.org/wiki/Binary_expression_tree) to visualize this expression:\n",
    "**-sqrt(36.2 - 5.3) + 2 - (3.1 + 5.52) * 4 / -3.0**"
   ]
  },
  {
   "cell_type": "markdown",
   "metadata": {},
   "source": [
    "![Expression Tree](https://s2.upanh.pro/2018/08/09/tree.png)"
   ]
  },
  {
   "cell_type": "markdown",
   "metadata": {},
   "source": [
    "That expression will be **\"36.2 5.3 - sqrt - 2.0 + 3.1 5.52 + 4.0 * -3.0 / - -\"** in **Postfix Notation**\n",
    "\n",
    "In the next section, I will show you how we can convert an **Infix Expression** into a **Postfix Expression**, evaluate it and then plot a **Binary Expression Tree** like that."
   ]
  },
  {
   "cell_type": "markdown",
   "metadata": {},
   "source": [
    "## 1. Pre-processing and prepraring:\n",
    "Our input will be a string, so I will remove any space, then add some necessary space and replace some special case like two minus character '--' to one plus character '+' to Normalize our expression. Finally, I used [**Regular Expression**](https://en.wikipedia.org/wiki/Regular_expression) to slice that string in to a list of operand and operator.<br/>\n",
    "\n",
    "**Note:** We might not need to mess with string if we can use **Regular Expression** to solve all the pre-processing thing when slice the expression. I don't have strong experience in **Regex** so this is what I did for now."
   ]
  },
  {
   "cell_type": "code",
   "execution_count": 1,
   "metadata": {},
   "outputs": [],
   "source": [
    "import re\n",
    "\n",
    "\n",
    "def preprocessExpression(string):\n",
    "    string = string.replace(' ', '')\n",
    "    string = string.replace(')-', ') - ')\n",
    "    string = string.replace('*-', ' * -')\n",
    "    string = string.replace('/-', ' / -')\n",
    "    string = string.replace('+-', ' + -')\n",
    "    string = string.replace('--', ' + ')\n",
    "    i = 1\n",
    "    if len(string) != 1:\n",
    "        while True:\n",
    "            while string[i] == '-' and string[i - 1].isdigit() and string[i + 1].isdigit():\n",
    "                string = string[:i] + ' ' + string[i] + ' ' + string[i + 1:]\n",
    "            i += 1\n",
    "            if i == len(string):\n",
    "                break\n",
    "    exp = re.findall(r'(-*[0-9,\\.]+)|([*+^\\/-]+|[A-Za-z]+)|(\\(|\\))', string)\n",
    "    exp = [tuple(j for j in i if j)[-1] for i in exp]\n",
    "    for i, x in enumerate(exp):\n",
    "        try:\n",
    "            exp[i] = float(x)\n",
    "        except ValueError:\n",
    "            pass\n",
    "    return exp"
   ]
  },
  {
   "cell_type": "markdown",
   "metadata": {},
   "source": [
    "Let's try it out:"
   ]
  },
  {
   "cell_type": "code",
   "execution_count": 2,
   "metadata": {},
   "outputs": [
    {
     "name": "stdout",
     "output_type": "stream",
     "text": [
      "['-', 'sqrt', '(', 36.2, '-', 5.3, ')', '+', 2.0, '-', '(', 3.1, '+', 5.52, ')', '*', 4.0, '/', -3.0]\n"
     ]
    }
   ],
   "source": [
    "_input = \"-sqrt(36.2 - 5.3) + 2 - (3.1 + 5.52) * 4 / -3.0\"\n",
    "exp = preprocessExpression(_input)\n",
    "print(exp)"
   ]
  },
  {
   "cell_type": "markdown",
   "metadata": {},
   "source": [
    "**Perfect!** Next, we have to determine which operator will have higher priority. In this calculator, I will use 6 operators: **+ - * / ^** and **sqrt**. We can add any operators like **sin, cos, log, ln, ...** easily down the lines:"
   ]
  },
  {
   "cell_type": "code",
   "execution_count": 3,
   "metadata": {},
   "outputs": [],
   "source": [
    "def notGreater(i, j):\n",
    "    precedence = {'+': 1, '-': 1, '*': 2, '/': 2, '^': 3, 'sqrt': 4}\n",
    "    try:\n",
    "        a = precedence[i]\n",
    "        b = precedence[j]\n",
    "        return True if a <= b else False\n",
    "    except KeyError:\n",
    "        return False"
   ]
  },
  {
   "cell_type": "markdown",
   "metadata": {},
   "source": [
    "## 2. Convert Infix Expressions to Postfix Expressions:\n",
    "We can convert **Infix Expressions** to **Postfix Expressions** by using [**Shunting-Yard Algorithm**](https://en.wikipedia.org/wiki/Shunting-yard_algorithm), **Edsger Dijkstra** invented it, so named because its operation resembles that of a railroad shunting yard.\n",
    "\n",
    "Here is the **Shunting-Yard Algorithm**:\n",
    "* **Step 1:** Scan the infix expression from left to right.\n",
    "* **Step 2:** If the scanned character is an operand, output it.\n",
    "* **Step 3:** Else,\n",
    "    * If the precedence of the scanned operator is greater than the precedence of the operator in the stack(or the stack is empty), push it.\n",
    "    * Else, Pop the operator from the stack until the precedence of the scanned operator is less-equal to the precedence of the operator residing on the top of the stack. Push the scanned operator to the stack.\n",
    "* **Step 4:** If the scanned character is an ‘(‘, push it to the stack.\n",
    "* **Step 5:** If the scanned character is an ‘)’, pop and output from the stack until an ‘(‘ is encountered.\n",
    "* **Step 6:** Repeat steps 2-6 until infix expression is scanned.\n",
    "* **Step 7:** Pop and output from the stack until it is not empty."
   ]
  },
  {
   "cell_type": "code",
   "execution_count": 4,
   "metadata": {},
   "outputs": [],
   "source": [
    "def infixToPostfix(exp):\n",
    "    output = []\n",
    "    stack = []\n",
    "    for i in exp:\n",
    "        if type(i) is float:\n",
    "            output.append(i)\n",
    "        elif i == '(':\n",
    "            stack.append('(')\n",
    "        elif i == ')':\n",
    "            while stack and stack[-1] != '(':\n",
    "                a = stack.pop()\n",
    "                output.append(a)\n",
    "            if stack and stack[-1] != '(':\n",
    "                return -1\n",
    "            else:\n",
    "                stack.pop()\n",
    "        else:\n",
    "            while stack and notGreater(i, stack[-1]):\n",
    "                output.append(stack.pop())\n",
    "            stack.append(i)\n",
    "    while stack:\n",
    "        output.append(stack.pop())\n",
    "\n",
    "    return output"
   ]
  },
  {
   "cell_type": "markdown",
   "metadata": {},
   "source": [
    "Let's do a quick test:"
   ]
  },
  {
   "cell_type": "code",
   "execution_count": 5,
   "metadata": {},
   "outputs": [
    {
     "name": "stdout",
     "output_type": "stream",
     "text": [
      "[36.2, 5.3, '-', 'sqrt', '-', 2.0, '+', 3.1, 5.52, '+', 4.0, '*', -3.0, '/', '-']\n"
     ]
    }
   ],
   "source": [
    "postfix = infixToPostfix(exp)\n",
    "print(postfix)"
   ]
  },
  {
   "cell_type": "markdown",
   "metadata": {},
   "source": [
    "Because each token will be read once, each number, function, or operator will be printed once, and each function, operator, or parenthesis will be pushed onto the stack and popped off the stack once—therefore, there are at most a constant number of operations executed per token, and the running time is thus ***O(n)*** — linear in the size of the input."
   ]
  },
  {
   "cell_type": "markdown",
   "metadata": {},
   "source": [
    "# 3. Evaluate Prefix Expressions:\n",
    "Now we have an **Prefix Expression**, we need to evaluate it for our calculators output:\n",
    "* **Step 1:** Create a stack to store operands (or values).\n",
    "* **Step 2:** Scan the given expression and do following for every scanned element.\n",
    "    * If the element is a number, push it into the stack.\n",
    "    * If the element is a operator, pop operands for the operator from stack. Evaluate the operator and push the result back to the stack.\n",
    "* **Step 3:** When the expression is ended, the number in the stack is the final answer."
   ]
  },
  {
   "cell_type": "code",
   "execution_count": 6,
   "metadata": {},
   "outputs": [],
   "source": [
    "from math import sqrt\n",
    "\n",
    "def evaluatePostfix(postfix):\n",
    "    stack = []\n",
    "    for i in postfix:\n",
    "        if type(i) is float:\n",
    "            stack.append(i)\n",
    "        else:\n",
    "            if i == 'sqrt':\n",
    "                val = stack.pop()\n",
    "                stack.append(sqrt(val))\n",
    "            elif i == '-' and len(stack) == 1:\n",
    "                val = stack.pop()\n",
    "                stack.append(-val)\n",
    "            else:\n",
    "                val1 = stack.pop()\n",
    "                val2 = stack.pop()\n",
    "                if i == '+':\n",
    "                    stack.append(val2 + val1)\n",
    "                elif i == '-':\n",
    "                    stack.append(val2 - val1)\n",
    "                elif i == '*':\n",
    "                    stack.append(val2 * val1)\n",
    "                elif i == '/':\n",
    "                    stack.append(val2 / val1)\n",
    "                elif i == '^':\n",
    "                    stack.append(val2**val1)\n",
    "\n",
    "    return stack.pop()"
   ]
  },
  {
   "cell_type": "code",
   "execution_count": 7,
   "metadata": {},
   "outputs": [
    {
     "name": "stdout",
     "output_type": "stream",
     "text": [
      "7.934556489458414\n"
     ]
    }
   ],
   "source": [
    "res = evaluatePostfix(postfix)\n",
    "print(res)"
   ]
  },
  {
   "cell_type": "markdown",
   "metadata": {},
   "source": [
    "Time complexity of evaluation algorithm is ***O(n)*** where n is number of characters in input expression."
   ]
  },
  {
   "cell_type": "markdown",
   "metadata": {},
   "source": [
    "# 4. Plug everything in a simple calculator:\n",
    "All the hard problems have been solved, it's time for our simple console based calculator, let's catch some error and we are good to go ^^"
   ]
  },
  {
   "cell_type": "code",
   "execution_count": 8,
   "metadata": {},
   "outputs": [
    {
     "name": "stdout",
     "output_type": "stream",
     "text": [
      "Input your expression:-sqrt(36.2 - 5.3) + 2 - (3.1 + 5.52) * 4 / -3.0\n",
      "Postfix expression: 36.2  5.3  -  sqrt  -  2.0  +  3.1  5.52  +  4.0  *  -3.0  /  -  \n",
      "Value:  7.934556489458414\n"
     ]
    }
   ],
   "source": [
    "try:\n",
    "    # Test expression: -sqrt(36.2 - 5.3) + 2 - (3.1 + 5.52) * 4 / -3.0\n",
    "    expression = input(\"Input your expression:\")\n",
    "    postfix = infixToPostfix(preprocessExpression(expression))\n",
    "    print(\"Postfix expression: \", end='')\n",
    "    for each in postfix:\n",
    "        print(str(each), ' ', end='')\n",
    "    print(\"\\nValue: \",evaluatePostfix(postfix))\n",
    "except ValueError:\n",
    "    print(\"Math Error!\")\n",
    "except IndexError:\n",
    "    print(\"Expression Not Valid!\")"
   ]
  },
  {
   "cell_type": "markdown",
   "metadata": {},
   "source": [
    "**And it's worked !**"
   ]
  },
  {
   "cell_type": "markdown",
   "metadata": {},
   "source": [
    "![It's worked](http://sv1.upsieutoc.com/2018/08/09/Screen-Shot-2018-08-09-at-11.55.51.png)"
   ]
  },
  {
   "cell_type": "markdown",
   "metadata": {},
   "source": [
    "# 5. Plot the Expression Tree:"
   ]
  },
  {
   "cell_type": "markdown",
   "metadata": {},
   "source": [
    "In order to understand how everything works, we might need to use a **Binary Expression Tree** to visualize the expression. **Prefix Notation** help up construct the binary tree way easier than **Infix Notation**. The process of construct an **Expression Tree** is pretty much the same when we evaluate the **Prefix Expression**.\n",
    "\n",
    "I used **[anytree](https://anytree.readthedocs.io/en/latest/intro.html)**, a simple and powerful Python **tree data library** to construct and plot our tree."
   ]
  },
  {
   "cell_type": "markdown",
   "metadata": {},
   "source": [
    "Since **Binary Expression Tree** is **undirected tree**, I have to make a **edege type function** make sure anytree output the correct tree:"
   ]
  },
  {
   "cell_type": "code",
   "execution_count": 9,
   "metadata": {},
   "outputs": [],
   "source": [
    "def edgetypefunc(node, child):\n",
    "    return '--'"
   ]
  },
  {
   "cell_type": "markdown",
   "metadata": {},
   "source": [
    "Each node of the tree have **a key** in **anytree's Node Class**, so we **can't use a operand or operator** for that key since there might be are a lot of operand or operator got **dupicated** in an expression. But we still can save that value by a additional **kwargs**, so we have to tell anytree to render tree using that **kwargs**."
   ]
  },
  {
   "cell_type": "code",
   "execution_count": 10,
   "metadata": {},
   "outputs": [],
   "source": [
    "def nodeattrfunc(node):\n",
    "    return 'label=\"' + str(node.val) + '\"'"
   ]
  },
  {
   "cell_type": "markdown",
   "metadata": {},
   "source": [
    "Here is how we will construct an **Expression Tree** from an **Prefix Expression**:\n",
    "* **Step 1:** Create a stack to store node and an index for those node\n",
    "* **Step 2:** Scan the prefix expression from left to right and do following for every scanned element.\n",
    "    * If the element is a number, create a node for it with new index and push it to the stack\n",
    "    * If the element is a operator:\n",
    "        * Create a node for it with new index\n",
    "        * Pop the operands for that operator from stack then set their parent to the operator node\n",
    "        * Push the parent node to the stack\n",
    "\n",
    "* At the end, there should be **only one node** left in the stack and it is the **root** node of our **Expression Tree**"
   ]
  },
  {
   "cell_type": "code",
   "execution_count": 11,
   "metadata": {},
   "outputs": [],
   "source": [
    "from anytree import Node, RenderTree, DoubleStyle\n",
    "from anytree.exporter import DotExporter\n",
    "\n",
    "\n",
    "def drawExpressionTree(postfix):\n",
    "    stack = []\n",
    "    index = 0\n",
    "    for i in postfix:\n",
    "        if type(i) is float:\n",
    "            stack.append(Node(index, parent=None, val=i))\n",
    "            index += 1\n",
    "        else:\n",
    "            if i == 'sqrt':\n",
    "                child = stack.pop()\n",
    "                parent = Node(index, parent=None, val=i)\n",
    "                index += 1\n",
    "                child.parent = parent\n",
    "                stack.append(parent)\n",
    "            elif i == '-' and len(stack) == 1:\n",
    "                child = stack.pop()\n",
    "                parent = Node(index, parent=None, val=i)\n",
    "                index += 1\n",
    "                child.parent = parent\n",
    "                stack.append(parent)\n",
    "            else:\n",
    "                right = stack.pop()\n",
    "                left = stack.pop()\n",
    "                parent = Node(index, parent=None, val=i)\n",
    "                index += 1\n",
    "                left.parent = parent\n",
    "                right.parent = parent\n",
    "                stack.append(parent)\n",
    "    root = stack.pop()\n",
    "    print(RenderTree(root, style=DoubleStyle).by_attr(attrname='val'))\n",
    "    DotExporter(root, graph=\"graph\", nodeattrfunc=nodeattrfunc,\n",
    "                edgetypefunc=edgetypefunc).to_dotfile(\"tree.dot\")"
   ]
  },
  {
   "cell_type": "markdown",
   "metadata": {},
   "source": [
    "In this function, i used **RenderTree()** function to render our **Expression Tree** in console and **DotExporter** to export our tree to a ***.dot*** file, we can use dot tool from the [graphviz](http://www.graphviz.org/) package to render it into a ***.png*** image. For futher customization and decoration, please head to [Anytree's Documentation](https://anytree.readthedocs.io/en/latest/intro.html):"
   ]
  },
  {
   "cell_type": "code",
   "execution_count": 12,
   "metadata": {},
   "outputs": [
    {
     "name": "stdout",
     "output_type": "stream",
     "text": [
      "-\n",
      "╠══ +\n",
      "║   ╠══ -\n",
      "║   ║   ╚══ sqrt\n",
      "║   ║       ╚══ -\n",
      "║   ║           ╠══ 36.2\n",
      "║   ║           ╚══ 5.3\n",
      "║   ╚══ 2.0\n",
      "╚══ /\n",
      "    ╠══ *\n",
      "    ║   ╠══ +\n",
      "    ║   ║   ╠══ 3.1\n",
      "    ║   ║   ╚══ 5.52\n",
      "    ║   ╚══ 4.0\n",
      "    ╚══ -3.0\n"
     ]
    }
   ],
   "source": [
    "drawExpressionTree(postfix)"
   ]
  },
  {
   "cell_type": "code",
   "execution_count": 13,
   "metadata": {},
   "outputs": [],
   "source": [
    "!dot tree.dot -T png -o tree.png"
   ]
  },
  {
   "cell_type": "markdown",
   "metadata": {},
   "source": [
    "![Expression Tree](tree.png \"Expression Tree\")"
   ]
  },
  {
   "cell_type": "markdown",
   "metadata": {},
   "source": [
    "You can also copy all content inside the **tree.dot** file and use [Webgprahviz](http://www.webgraphviz.com/) to plot the tree right inside your browser:"
   ]
  },
  {
   "cell_type": "code",
   "execution_count": 14,
   "metadata": {},
   "outputs": [
    {
     "name": "stdout",
     "output_type": "stream",
     "text": [
      "graph tree {\n",
      "    \"14\" [label=\"-\"];\n",
      "    \"6\" [label=\"+\"];\n",
      "    \"4\" [label=\"-\"];\n",
      "    \"3\" [label=\"sqrt\"];\n",
      "    \"2\" [label=\"-\"];\n",
      "    \"0\" [label=\"36.2\"];\n",
      "    \"1\" [label=\"5.3\"];\n",
      "    \"5\" [label=\"2.0\"];\n",
      "    \"13\" [label=\"/\"];\n",
      "    \"11\" [label=\"*\"];\n",
      "    \"9\" [label=\"+\"];\n",
      "    \"7\" [label=\"3.1\"];\n",
      "    \"8\" [label=\"5.52\"];\n",
      "    \"10\" [label=\"4.0\"];\n",
      "    \"12\" [label=\"-3.0\"];\n",
      "    \"14\" -- \"6\";\n",
      "    \"14\" -- \"13\";\n",
      "    \"6\" -- \"4\";\n",
      "    \"6\" -- \"5\";\n",
      "    \"4\" -- \"3\";\n",
      "    \"3\" -- \"2\";\n",
      "    \"2\" -- \"0\";\n",
      "    \"2\" -- \"1\";\n",
      "    \"13\" -- \"11\";\n",
      "    \"13\" -- \"12\";\n",
      "    \"11\" -- \"9\";\n",
      "    \"11\" -- \"10\";\n",
      "    \"9\" -- \"7\";\n",
      "    \"9\" -- \"8\";\n",
      "}\n",
      "\n"
     ]
    }
   ],
   "source": [
    "f = open('tree.dot', 'r')\n",
    "file_contents = f.read()\n",
    "print(file_contents)\n",
    "f.close()"
   ]
  },
  {
   "cell_type": "markdown",
   "metadata": {},
   "source": [
    "<img src=\"https://media.giphy.com/media/2fsdaNR299EuyYtVJ7/giphy.gif\">"
   ]
  },
  {
   "cell_type": "markdown",
   "metadata": {},
   "source": [
    "**Note:** ***anytree*** support render tree to picture with just a simple line of code but it have trouble working with anaconda so i didn't use it. Also, this project is **not prefect**. There are still **a lot of room for improvement** like **better regex for slicing expression, evaluate expression using expression tree and DFS, etc..**"
   ]
  },
  {
   "cell_type": "markdown",
   "metadata": {},
   "source": [
    "#### ***Anyways, thanks for read this till the end! Feels free to give me any question or contribute to this project <3***"
   ]
  }
 ],
 "metadata": {
  "kernelspec": {
   "display_name": "Python 3",
   "language": "python",
   "name": "python3"
  },
  "language_info": {
   "codemirror_mode": {
    "name": "ipython",
    "version": 3
   },
   "file_extension": ".py",
   "mimetype": "text/x-python",
   "name": "python",
   "nbconvert_exporter": "python",
   "pygments_lexer": "ipython3",
   "version": "3.6.4"
  }
 },
 "nbformat": 4,
 "nbformat_minor": 2
}
